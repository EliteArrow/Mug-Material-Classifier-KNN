{
 "cells": [
  {
   "cell_type": "markdown",
   "id": "cd13d225",
   "metadata": {},
   "source": [
    "#### Project Description: \n",
    "Consider the problem where we want to predict the type of material (among 3 material types) of a mug based on four measurements, namely the height, diameter, weight, and hue (color)."
   ]
  },
  {
   "cell_type": "code",
   "execution_count": null,
   "id": "167f31d8",
   "metadata": {},
   "outputs": [],
   "source": [
    "# Run this code to install required library\n",
    "!pip install pandas\n",
    "!pip install sklearn"
   ]
  },
  {
   "cell_type": "code",
   "execution_count": 2,
   "id": "5cc2ef34",
   "metadata": {},
   "outputs": [],
   "source": [
    "# Import necessary libraries\n",
    "import pandas as pd\n",
    "from sklearn.neighbors import KNeighborsClassifier\n",
    "from sklearn.model_selection import LeaveOneOut\n",
    "from sklearn.preprocessing import LabelEncoder\n",
    "from sklearn.metrics import accuracy_score"
   ]
  },
  {
   "cell_type": "markdown",
   "id": "44bb1388",
   "metadata": {},
   "source": [
    "a) Using Cartesian distance as the similarity measurements show the results of the material type prediction for the Evaluation data that you generated above for a) based on the corresponding generated training data for values of K of 1, 3, and 5."
   ]
  },
  {
   "cell_type": "code",
   "execution_count": 3,
   "id": "0212a93b",
   "metadata": {},
   "outputs": [],
   "source": [
    "# a) Load the data\n",
    "train = pd.read_csv('train_dataset.csv')\n",
    "test = pd.read_csv('test_dataset.csv')\n",
    "\n",
    "# Encode the material types (class labels)\n",
    "le = LabelEncoder()\n",
    "train['class'] = le.fit_transform(train['class'])\n",
    "\n",
    "# Split the data into features and targets\n",
    "X_train = train.iloc[:, :-1]\n",
    "y_train = train.iloc[:, -1]\n",
    "X_test = test"
   ]
  },
  {
   "cell_type": "code",
   "execution_count": 4,
   "id": "6e78157c",
   "metadata": {},
   "outputs": [
    {
     "data": {
      "text/html": [
       "<div>\n",
       "<style scoped>\n",
       "    .dataframe tbody tr th:only-of-type {\n",
       "        vertical-align: middle;\n",
       "    }\n",
       "\n",
       "    .dataframe tbody tr th {\n",
       "        vertical-align: top;\n",
       "    }\n",
       "\n",
       "    .dataframe thead th {\n",
       "        text-align: right;\n",
       "    }\n",
       "</style>\n",
       "<table border=\"1\" class=\"dataframe\">\n",
       "  <thead>\n",
       "    <tr style=\"text-align: right;\">\n",
       "      <th></th>\n",
       "      <th>height</th>\n",
       "      <th>diameter</th>\n",
       "      <th>weight</th>\n",
       "      <th>hue</th>\n",
       "      <th>class</th>\n",
       "    </tr>\n",
       "  </thead>\n",
       "  <tbody>\n",
       "    <tr>\n",
       "      <th>0</th>\n",
       "      <td>0.079090</td>\n",
       "      <td>0.062436</td>\n",
       "      <td>0.348144</td>\n",
       "      <td>5.062250</td>\n",
       "      <td>Ceramic</td>\n",
       "    </tr>\n",
       "    <tr>\n",
       "      <th>1</th>\n",
       "      <td>0.083359</td>\n",
       "      <td>0.067004</td>\n",
       "      <td>0.174660</td>\n",
       "      <td>3.042573</td>\n",
       "      <td>Plastic</td>\n",
       "    </tr>\n",
       "    <tr>\n",
       "      <th>2</th>\n",
       "      <td>0.139420</td>\n",
       "      <td>0.141117</td>\n",
       "      <td>0.445220</td>\n",
       "      <td>4.199028</td>\n",
       "      <td>Plastic</td>\n",
       "    </tr>\n",
       "    <tr>\n",
       "      <th>3</th>\n",
       "      <td>0.145907</td>\n",
       "      <td>0.146399</td>\n",
       "      <td>0.526784</td>\n",
       "      <td>1.492253</td>\n",
       "      <td>Plastic</td>\n",
       "    </tr>\n",
       "    <tr>\n",
       "      <th>4</th>\n",
       "      <td>0.107969</td>\n",
       "      <td>0.110693</td>\n",
       "      <td>0.531342</td>\n",
       "      <td>3.126876</td>\n",
       "      <td>Metal</td>\n",
       "    </tr>\n",
       "  </tbody>\n",
       "</table>\n",
       "</div>"
      ],
      "text/plain": [
       "     height  diameter    weight       hue    class\n",
       "0  0.079090  0.062436  0.348144  5.062250  Ceramic\n",
       "1  0.083359  0.067004  0.174660  3.042573  Plastic\n",
       "2  0.139420  0.141117  0.445220  4.199028  Plastic\n",
       "3  0.145907  0.146399  0.526784  1.492253  Plastic\n",
       "4  0.107969  0.110693  0.531342  3.126876    Metal"
      ]
     },
     "execution_count": 4,
     "metadata": {},
     "output_type": "execute_result"
    }
   ],
   "source": [
    "# Printing train data head\n",
    "pd.read_csv('train_dataset.csv').head()"
   ]
  },
  {
   "cell_type": "code",
   "execution_count": 5,
   "id": "f02226c6",
   "metadata": {},
   "outputs": [
    {
     "data": {
      "text/html": [
       "<div>\n",
       "<style scoped>\n",
       "    .dataframe tbody tr th:only-of-type {\n",
       "        vertical-align: middle;\n",
       "    }\n",
       "\n",
       "    .dataframe tbody tr th {\n",
       "        vertical-align: top;\n",
       "    }\n",
       "\n",
       "    .dataframe thead th {\n",
       "        text-align: right;\n",
       "    }\n",
       "</style>\n",
       "<table border=\"1\" class=\"dataframe\">\n",
       "  <thead>\n",
       "    <tr style=\"text-align: right;\">\n",
       "      <th></th>\n",
       "      <th>height</th>\n",
       "      <th>diameter</th>\n",
       "      <th>weight</th>\n",
       "      <th>hue</th>\n",
       "    </tr>\n",
       "  </thead>\n",
       "  <tbody>\n",
       "    <tr>\n",
       "      <th>0</th>\n",
       "      <td>0.095138</td>\n",
       "      <td>0.091299</td>\n",
       "      <td>0.519574</td>\n",
       "      <td>2.532808</td>\n",
       "    </tr>\n",
       "    <tr>\n",
       "      <th>1</th>\n",
       "      <td>0.073791</td>\n",
       "      <td>0.030000</td>\n",
       "      <td>0.163126</td>\n",
       "      <td>2.109131</td>\n",
       "    </tr>\n",
       "    <tr>\n",
       "      <th>2</th>\n",
       "      <td>0.073555</td>\n",
       "      <td>0.075702</td>\n",
       "      <td>0.273573</td>\n",
       "      <td>0.196916</td>\n",
       "    </tr>\n",
       "    <tr>\n",
       "      <th>3</th>\n",
       "      <td>0.119338</td>\n",
       "      <td>0.150000</td>\n",
       "      <td>0.450114</td>\n",
       "      <td>2.754943</td>\n",
       "    </tr>\n",
       "  </tbody>\n",
       "</table>\n",
       "</div>"
      ],
      "text/plain": [
       "     height  diameter    weight       hue\n",
       "0  0.095138  0.091299  0.519574  2.532808\n",
       "1  0.073791  0.030000  0.163126  2.109131\n",
       "2  0.073555  0.075702  0.273573  0.196916\n",
       "3  0.119338  0.150000  0.450114  2.754943"
      ]
     },
     "execution_count": 5,
     "metadata": {},
     "output_type": "execute_result"
    }
   ],
   "source": [
    "# Printing Test data head\n",
    "pd.read_csv('test_dataset.csv').head()"
   ]
  },
  {
   "cell_type": "markdown",
   "id": "184f25d1",
   "metadata": {},
   "source": [
    "b) Implement the KNN algorithm for this problem. It will work with different training data sets and allow to input a data point for the prediction."
   ]
  },
  {
   "cell_type": "code",
   "execution_count": 6,
   "id": "156247c5",
   "metadata": {},
   "outputs": [
    {
     "name": "stdout",
     "output_type": "stream",
     "text": [
      "Predictions with k=1: ['Ceramic' 'Plastic' 'Plastic' 'Ceramic']\n",
      "Predictions with k=3: ['Ceramic' 'Plastic' 'Plastic' 'Ceramic']\n",
      "Predictions with k=5: ['Metal' 'Plastic' 'Plastic' 'Metal']\n"
     ]
    }
   ],
   "source": [
    "# Build and train the KNN model\n",
    "for k in [1, 3, 5]:\n",
    "    knn = KNeighborsClassifier(n_neighbors=k)\n",
    "    knn.fit(X_train, y_train)\n",
    "\n",
    "    # Predict on test data\n",
    "    y_pred = knn.predict(X_test)\n",
    "    print(f\"Predictions with k={k}: {le.inverse_transform(y_pred)}\")"
   ]
  },
  {
   "cell_type": "markdown",
   "id": "4abf38c1",
   "metadata": {},
   "source": [
    "c) To evaluate the performance of the KNN algorithm, implementing a leave-one-out evaluation routine for algorithm. In leave-one-out validation, we repeatedly evaluate the algorithm by removing one data point from the training set, training the algorithm on the remaining data set and then testing it on the point we removed to see if the label matches or not. Repeating this for each of the data points gives us an estimate as to the percentage of erroneous predictions the algorithm makes and thus a measure of the accuracy of the algorithm for the given data. Applying leave-one-out validation with KNN algorithm to the dataset for c) for values for K of 1, 3, and 5 and report the results. For which value of K do you get the best performance ?"
   ]
  },
  {
   "cell_type": "code",
   "execution_count": 11,
   "id": "c07ddbfc",
   "metadata": {},
   "outputs": [
    {
     "name": "stdout",
     "output_type": "stream",
     "text": [
      "Leave-one-out cross-validation accuracy with k=1: 0.4\n",
      "Leave-one-out cross-validation accuracy with k=3: 0.425\n",
      "Leave-one-out cross-validation accuracy with k=5: 0.4166666666666667\n"
     ]
    }
   ],
   "source": [
    "# c) Leave-one-out validation\n",
    "loo = LeaveOneOut()\n",
    "\n",
    "data = pd.read_csv('program_dataset.csv')\n",
    "X = data.iloc[:, :-1]\n",
    "y = pd.Series(le.transform(data.iloc[:, -1]))  # Convert to pandas Series\n",
    "\n",
    "for k in [1, 3, 5]:\n",
    "    y_pred = list()\n",
    "    for train_index, test_index in loo.split(X):\n",
    "        X_train, X_test = X.iloc[train_index], X.iloc[test_index]\n",
    "        y_train, y_test = y.iloc[train_index], y.iloc[test_index]\n",
    "\n",
    "        knn = KNeighborsClassifier(n_neighbors=k)\n",
    "        knn.fit(X_train, y_train)\n",
    "\n",
    "        y_hat = knn.predict(X_test)\n",
    "        y_pred.append(y_hat[0])\n",
    "        \n",
    "    # Calculate accuracy for each k\n",
    "    accuracy = accuracy_score(y, y_pred)\n",
    "    print(f\"Leave-one-out cross-validation accuracy with k={k}: {accuracy}\")\n"
   ]
  },
  {
   "cell_type": "markdown",
   "id": "7c3e59ac",
   "metadata": {},
   "source": [
    "d) Modify KNN algorithm to use Manhattan distance (L1) as the similarity measure and repeat the experiment from part c). Which similarity measure gives you a better performance for each of the values of K ?"
   ]
  },
  {
   "cell_type": "code",
   "execution_count": 14,
   "id": "75878da6",
   "metadata": {},
   "outputs": [
    {
     "name": "stdout",
     "output_type": "stream",
     "text": [
      "Leave-one-out cross-validation accuracy with Manhattan distance and k=1: 0.4583333333333333\n",
      "Leave-one-out cross-validation accuracy with Manhattan distance and k=3: 0.44166666666666665\n",
      "Leave-one-out cross-validation accuracy with Manhattan distance and k=5: 0.45\n"
     ]
    }
   ],
   "source": [
    "# d) KNN with Manhattan distance (p=1 in Minkowski distance)\n",
    "for k in [1, 3, 5]:\n",
    "    y_pred = list()\n",
    "    for train_index, test_index in loo.split(X):\n",
    "        X_train, X_test = X.iloc[train_index], X.iloc[test_index]\n",
    "        y_train, y_test = y.iloc[train_index], y.iloc[test_index]\n",
    "\n",
    "        knn = KNeighborsClassifier(n_neighbors=k, p=1)\n",
    "        knn.fit(X_train, y_train)\n",
    "\n",
    "        y_hat = knn.predict(X_test)\n",
    "        y_pred.append(y_hat[0])\n",
    "\n",
    "    # Calculate accuracy for each k\n",
    "    accuracy = accuracy_score(y, y_pred)\n",
    "    print(f\"Leave-one-out cross-validation accuracy with Manhattan distance and k={k}: {accuracy}\")"
   ]
  },
  {
   "cell_type": "markdown",
   "id": "64b1787d",
   "metadata": {},
   "source": [
    "e) Repeat the prediction experiment from part c) using KNN and Cartesian distance when the fourth attribute in the data is removed (i.e. when only the first three features in the input data are available). Which data gives better predictions?"
   ]
  },
  {
   "cell_type": "code",
   "execution_count": 31,
   "id": "6ed4a784",
   "metadata": {},
   "outputs": [
    {
     "name": "stdout",
     "output_type": "stream",
     "text": [
      "Predictions with 3 features (height, diameter, weight) and k=1: ['Metal' 'Ceramic' 'Metal' 'Plastic']\n",
      "Predictions with 3 features (height, diameter, weight) and k=3: ['Plastic' 'Plastic' 'Ceramic' 'Plastic']\n",
      "Predictions with 3 features (height, diameter, weight) and k=5: ['Plastic' 'Ceramic' 'Ceramic' 'Plastic']\n"
     ]
    }
   ],
   "source": [
    "# e) KNN with only three features\n",
    "X_train = train.iloc[:, :3]\n",
    "y_train = train.iloc[:, -1]  # Redefine y_train\n",
    "X_test = test.iloc[:, :3]\n",
    "\n",
    "for k in [1, 3, 5]:\n",
    "    knn = KNeighborsClassifier(n_neighbors=k)\n",
    "    knn.fit(X_train, y_train)\n",
    "    y_pred = knn.predict(X_test)\n",
    "    # We can't compute the accuracy in e) because we don't have the true labels for the test data.\n",
    "    print(f\"Predictions with 3 features (height, diameter, weight) and k={k}: {le.inverse_transform(y_pred)}\")\n"
   ]
  }
 ],
 "metadata": {
  "kernelspec": {
   "display_name": "Python 3 (ipykernel)",
   "language": "python",
   "name": "python3"
  },
  "language_info": {
   "codemirror_mode": {
    "name": "ipython",
    "version": 3
   },
   "file_extension": ".py",
   "mimetype": "text/x-python",
   "name": "python",
   "nbconvert_exporter": "python",
   "pygments_lexer": "ipython3",
   "version": "3.10.9"
  }
 },
 "nbformat": 4,
 "nbformat_minor": 5
}
